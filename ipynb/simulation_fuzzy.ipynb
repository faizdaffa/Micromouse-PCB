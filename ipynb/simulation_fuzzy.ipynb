{
 "cells": [
  {
   "cell_type": "code",
   "execution_count": 36,
   "metadata": {},
   "outputs": [],
   "source": [
    "import numpy as np\n",
    "import skfuzzy as fuzz\n",
    "from skfuzzy import control as ctrl"
   ]
  },
  {
   "cell_type": "code",
   "execution_count": 37,
   "metadata": {},
   "outputs": [],
   "source": [
    "# Create input and output variables\n",
    "ultrasonic_left  = ctrl.Antecedent(np.arange(0, 41, 1),  'ultrasonic_left')\n",
    "ultrasonic_front = ctrl.Antecedent(np.arange(0, 41, 1),  'ultrasonic_front')\n",
    "ultrasonic_right = ctrl.Antecedent(np.arange(0, 41, 1),  'ultrasonic_right')\n",
    "steering_angle   = ctrl.Consequent(np.arange(-90, 91, 1), 'steering_angle')"
   ]
  },
  {
   "cell_type": "code",
   "execution_count": 38,
   "metadata": {},
   "outputs": [],
   "source": [
    "# Define membership functions for input variables\n",
    "ultrasonic_left['near']    = fuzz.trimf(ultrasonic_left.universe, [0, 10, 20])\n",
    "ultrasonic_left['medium']  = fuzz.trimf(ultrasonic_left.universe, [10, 20, 30])\n",
    "ultrasonic_left['far']     = fuzz.trimf(ultrasonic_left.universe, [20, 30, 40])\n",
    "\n",
    "ultrasonic_front['near']   = fuzz.trimf(ultrasonic_front.universe, [0, 10, 20])\n",
    "ultrasonic_front['medium'] = fuzz.trimf(ultrasonic_front.universe, [10, 20, 30])\n",
    "ultrasonic_front['far']    = fuzz.trimf(ultrasonic_front.universe, [20, 30, 40])\n",
    "\n",
    "ultrasonic_right['near']   = fuzz.trimf(ultrasonic_right.universe, [0, 10, 20])\n",
    "ultrasonic_right['medium'] = fuzz.trimf(ultrasonic_right.universe, [10, 20, 30])\n",
    "ultrasonic_right['far']    = fuzz.trimf(ultrasonic_right.universe, [20, 30, 40])"
   ]
  },
  {
   "cell_type": "code",
   "execution_count": 39,
   "metadata": {},
   "outputs": [],
   "source": [
    "steering_angle['left']     = fuzz.trimf(steering_angle.universe, [-90, -90, 0])\n",
    "steering_angle['straight'] = fuzz.trimf(steering_angle.universe, [-90, 0, 90])\n",
    "steering_angle['right']    = fuzz.trimf(steering_angle.universe, [0, 90, 90])"
   ]
  },
  {
   "cell_type": "code",
   "execution_count": 40,
   "metadata": {},
   "outputs": [],
   "source": [
    "# Define fuzzy rules\n",
    "rule1  = ctrl.Rule(ultrasonic_left['near']   & ultrasonic_front['near']   & ultrasonic_right['near'],   steering_angle['right'])\n",
    "rule2  = ctrl.Rule(ultrasonic_left['medium'] & ultrasonic_front['near']   & ultrasonic_right['near'],   steering_angle['left'])\n",
    "rule3  = ctrl.Rule(ultrasonic_left['near']   & ultrasonic_front['medium'] & ultrasonic_right['near'],   steering_angle['straight'])\n",
    "rule4  = ctrl.Rule(ultrasonic_left['near']   & ultrasonic_front['near']   & ultrasonic_right['medium'], steering_angle['right'])\n",
    "rule5  = ctrl.Rule(ultrasonic_left['near']   & ultrasonic_front['medium'] & ultrasonic_right['medium'], steering_angle['straight'])\n",
    "rule6  = ctrl.Rule(ultrasonic_left['medium'] & ultrasonic_front['medium'] & ultrasonic_right['near'],   steering_angle['straight'])\n",
    "rule7  = ctrl.Rule(ultrasonic_left['medium'] & ultrasonic_front['near']   & ultrasonic_right['medium'], steering_angle['right'])\n",
    "rule8  = ctrl.Rule(ultrasonic_left['medium'] & ultrasonic_front['medium'] & ultrasonic_right['medium'], steering_angle['straight'])\n",
    "rule9  = ctrl.Rule(ultrasonic_left['far']    & ultrasonic_front['medium'] & ultrasonic_right['medium'], steering_angle['straight'])\n",
    "rule10 = ctrl.Rule(ultrasonic_left['medium'] & ultrasonic_front['far']    & ultrasonic_right['medium'], steering_angle['straight'])\n",
    "rule11 = ctrl.Rule(ultrasonic_left['medium'] & ultrasonic_front['medium'] & ultrasonic_right['far'],    steering_angle['straight'])\n",
    "rule12 = ctrl.Rule(ultrasonic_left['medium'] & ultrasonic_front['far']    & ultrasonic_right['far'],    steering_angle['straight'])\n",
    "rule13 = ctrl.Rule(ultrasonic_left['far']    & ultrasonic_front['far']    & ultrasonic_right['medium'], steering_angle['straight'])\n",
    "rule14 = ctrl.Rule(ultrasonic_left['far']    & ultrasonic_front['medium'] & ultrasonic_right['far'],    steering_angle['straight'])\n",
    "rule15 = ctrl.Rule(ultrasonic_left['far']    & ultrasonic_front['far']    & ultrasonic_right['far'],    steering_angle['straight'])\n",
    "rule16 = ctrl.Rule(ultrasonic_left['near']   & ultrasonic_front['far']    & ultrasonic_right['far'],    steering_angle['straight'])\n",
    "rule17 = ctrl.Rule(ultrasonic_left['far']    & ultrasonic_front['near']   & ultrasonic_right['far'],    steering_angle['right'])\n",
    "rule18 = ctrl.Rule(ultrasonic_left['far']    & ultrasonic_front['far']    & ultrasonic_right['near'],   steering_angle['straight'])\n",
    "rule19 = ctrl.Rule(ultrasonic_left['far']    & ultrasonic_front['near']   & ultrasonic_right['near'],   steering_angle['left'])\n",
    "rule20 = ctrl.Rule(ultrasonic_left['near']   & ultrasonic_front['near']   & ultrasonic_right['far'],    steering_angle['right'])\n",
    "rule21 = ctrl.Rule(ultrasonic_left['near']   & ultrasonic_front['far']    & ultrasonic_right['near'],   steering_angle['straight'])\n",
    "rule22 = ctrl.Rule(ultrasonic_left['near']   & ultrasonic_front['far']    & ultrasonic_right['medium'], steering_angle['straight'])\n",
    "rule23 = ctrl.Rule(ultrasonic_left['near']   & ultrasonic_front['medium'] & ultrasonic_right['far'],    steering_angle['straight'])\n",
    "rule24 = ctrl.Rule(ultrasonic_left['medium'] & ultrasonic_front['far']    & ultrasonic_right['near'],   steering_angle['straight'])\n",
    "rule25 = ctrl.Rule(ultrasonic_left['far']    & ultrasonic_front['near']   & ultrasonic_right['medium'], steering_angle['left'])\n",
    "rule26 = ctrl.Rule(ultrasonic_left['far']    & ultrasonic_front['medium'] & ultrasonic_right['near'],   steering_angle['straight'])\n",
    "rule27 = ctrl.Rule(ultrasonic_left['medium'] & ultrasonic_front['near']   & ultrasonic_right['medium'], steering_angle['right'])"
   ]
  },
  {
   "cell_type": "code",
   "execution_count": 41,
   "metadata": {},
   "outputs": [],
   "source": [
    "# Create fuzzy control system and add rules\n",
    "fuzzy_simulator = ctrl.ControlSystem([rule1, rule2, rule3, rule4, rule5, rule6, rule7, rule8, rule9,\n",
    "                                      rule10,rule11,rule12,rule13,rule14,rule15,rule16,rule17,rule18,\n",
    "                                      rule19,rule20,rule21,rule22,rule23,rule24,rule25,rule26,rule27,\n",
    "                                      ])\n",
    "\n",
    "# Create simulation object\n",
    "simulation = ctrl.ControlSystemSimulation(fuzzy_simulator)"
   ]
  },
  {
   "cell_type": "code",
   "execution_count": 44,
   "metadata": {},
   "outputs": [
    {
     "name": "stdout",
     "output_type": "stream",
     "text": [
      "Output value: 53.250000000000085\n"
     ]
    }
   ],
   "source": [
    "# Set input values\n",
    "simulation.input['ultrasonic_left'] = 4\n",
    "simulation.input['ultrasonic_front'] = 10\n",
    "simulation.input['ultrasonic_right'] = 30\n",
    "\n",
    "# Compute output\n",
    "simulation.compute()\n",
    "\n",
    "# Get output value\n",
    "output_value = simulation.output['steering_angle']\n",
    "\n",
    "# Print output value\n",
    "print(\"Output value:\", output_value)"
   ]
  }
 ],
 "metadata": {
  "kernelspec": {
   "display_name": "Python 3",
   "language": "python",
   "name": "python3"
  },
  "language_info": {
   "codemirror_mode": {
    "name": "ipython",
    "version": 3
   },
   "file_extension": ".py",
   "mimetype": "text/x-python",
   "name": "python",
   "nbconvert_exporter": "python",
   "pygments_lexer": "ipython3",
   "version": "3.7.3"
  },
  "orig_nbformat": 4
 },
 "nbformat": 4,
 "nbformat_minor": 2
}
